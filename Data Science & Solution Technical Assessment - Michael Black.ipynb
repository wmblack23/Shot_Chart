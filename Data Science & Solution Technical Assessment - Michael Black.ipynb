{
 "cells": [
  {
   "cell_type": "markdown",
   "metadata": {},
   "source": [
    "# Michael Black\n",
    "*11/15/2021*\n",
    "\n",
    "---"
   ]
  },
  {
   "cell_type": "code",
   "execution_count": 1,
   "metadata": {},
   "outputs": [],
   "source": [
    "import pandas as pd\n",
    "import numpy as np"
   ]
  },
  {
   "cell_type": "markdown",
   "metadata": {},
   "source": [
    "### Importing data"
   ]
  },
  {
   "cell_type": "code",
   "execution_count": 2,
   "metadata": {},
   "outputs": [
    {
     "data": {
      "text/html": [
       "<div>\n",
       "<style scoped>\n",
       "    .dataframe tbody tr th:only-of-type {\n",
       "        vertical-align: middle;\n",
       "    }\n",
       "\n",
       "    .dataframe tbody tr th {\n",
       "        vertical-align: top;\n",
       "    }\n",
       "\n",
       "    .dataframe thead th {\n",
       "        text-align: right;\n",
       "    }\n",
       "</style>\n",
       "<table border=\"1\" class=\"dataframe\">\n",
       "  <thead>\n",
       "    <tr style=\"text-align: right;\">\n",
       "      <th></th>\n",
       "      <th>team</th>\n",
       "      <th>x</th>\n",
       "      <th>y</th>\n",
       "      <th>fgmade</th>\n",
       "    </tr>\n",
       "  </thead>\n",
       "  <tbody>\n",
       "    <tr>\n",
       "      <th>0</th>\n",
       "      <td>Team A</td>\n",
       "      <td>-23.1</td>\n",
       "      <td>3.5</td>\n",
       "      <td>0</td>\n",
       "    </tr>\n",
       "    <tr>\n",
       "      <th>1</th>\n",
       "      <td>Team A</td>\n",
       "      <td>0.0</td>\n",
       "      <td>25.1</td>\n",
       "      <td>1</td>\n",
       "    </tr>\n",
       "    <tr>\n",
       "      <th>2</th>\n",
       "      <td>Team A</td>\n",
       "      <td>0.5</td>\n",
       "      <td>1.0</td>\n",
       "      <td>1</td>\n",
       "    </tr>\n",
       "    <tr>\n",
       "      <th>3</th>\n",
       "      <td>Team A</td>\n",
       "      <td>-5.6</td>\n",
       "      <td>5.2</td>\n",
       "      <td>0</td>\n",
       "    </tr>\n",
       "    <tr>\n",
       "      <th>4</th>\n",
       "      <td>Team A</td>\n",
       "      <td>4.0</td>\n",
       "      <td>14.5</td>\n",
       "      <td>1</td>\n",
       "    </tr>\n",
       "  </tbody>\n",
       "</table>\n",
       "</div>"
      ],
      "text/plain": [
       "     team     x     y  fgmade\n",
       "0  Team A -23.1   3.5       0\n",
       "1  Team A   0.0  25.1       1\n",
       "2  Team A   0.5   1.0       1\n",
       "3  Team A  -5.6   5.2       0\n",
       "4  Team A   4.0  14.5       1"
      ]
     },
     "execution_count": 2,
     "metadata": {},
     "output_type": "execute_result"
    }
   ],
   "source": [
    "shots = pd.read_csv('shots_data.csv')\n",
    "shots.head()"
   ]
  },
  {
   "cell_type": "markdown",
   "metadata": {},
   "source": [
    "### DataFrame for each team"
   ]
  },
  {
   "cell_type": "code",
   "execution_count": 3,
   "metadata": {},
   "outputs": [],
   "source": [
    "team_A_shots = shots[shots.team == 'Team A']\n",
    "team_B_shots = shots[shots.team == 'Team B'].reset_index()"
   ]
  },
  {
   "cell_type": "markdown",
   "metadata": {},
   "source": [
    "### Function to calculate Shot Distribution and EFG for each team"
   ]
  },
  {
   "cell_type": "code",
   "execution_count": 4,
   "metadata": {},
   "outputs": [],
   "source": [
    "def get_stats(df):\n",
    "    \n",
    "        two_pt, corner3, noncorner3 = [], [], []   # Tracking shots\n",
    "\n",
    "        for i, k, l in zip(df.x, df.y, df.fgmade):\n",
    "            # Appending shots to list based on court coordinates\n",
    "            if np.sqrt(abs(i)**2 + abs(k)**2) > 23.75 and k > 7.8:  # Non-Corner Three\n",
    "                noncorner3.append(l)\n",
    "            elif abs(i) > 22.0 and k <= 7.8:                        # Corner Three\n",
    "                corner3.append(l)\n",
    "            else:                                                   # Two Point\n",
    "                two_pt.append(l)\n",
    "            \n",
    "        print(df.team[0])\n",
    "        print('-'*6)\n",
    "        print(\"\\nShot Distribution \\n{:<4} {:<6} %\\n{:<4} {:<6} %\\n{:<4} {:<6} %\".format(\n",
    "            \"2PT:\", round(len(two_pt)/len(df), 3),\n",
    "            \"NC3:\", round(len(noncorner3)/len(df), 3),\n",
    "            \"C3:\", round(len(corner3)/len(df), 3)))\n",
    "        \n",
    "        print('\\nEffective Field Goal Percentage \\n{:<4} {:<6} %\\n{:<4} {:<6} %\\n{:<4} {:<6} %'.format(\n",
    "            \"2PT:\", round((two_pt.count(1)+(0.5*0))/len(two_pt), 3),\n",
    "            \"NC3:\", round((noncorner3.count(1)+(0.5*noncorner3.count(1)))/len(noncorner3), 3),\n",
    "            \"C3:\",  round((corner3.count(1)+(0.5*corner3.count(1)))/len(corner3), 3)))\n"
   ]
  },
  {
   "cell_type": "markdown",
   "metadata": {},
   "source": [
    "## Team A"
   ]
  },
  {
   "cell_type": "code",
   "execution_count": 5,
   "metadata": {},
   "outputs": [
    {
     "name": "stdout",
     "output_type": "stream",
     "text": [
      "Team A\n",
      "------\n",
      "\n",
      "Shot Distribution \n",
      "2PT: 0.607  %\n",
      "NC3: 0.321  %\n",
      "C3:  0.071  %\n",
      "\n",
      "Effective Field Goal Percentage \n",
      "2PT: 0.4    %\n",
      "NC3: 0.483  %\n",
      "C3:  0.6    %\n"
     ]
    }
   ],
   "source": [
    "get_stats(team_A_shots)"
   ]
  },
  {
   "cell_type": "markdown",
   "metadata": {},
   "source": [
    "## Team B"
   ]
  },
  {
   "cell_type": "code",
   "execution_count": 6,
   "metadata": {},
   "outputs": [
    {
     "name": "stdout",
     "output_type": "stream",
     "text": [
      "Team B\n",
      "------\n",
      "\n",
      "Shot Distribution \n",
      "2PT: 0.582  %\n",
      "NC3: 0.343  %\n",
      "C3:  0.075  %\n",
      "\n",
      "Effective Field Goal Percentage \n",
      "2PT: 0.46   %\n",
      "NC3: 0.547  %\n",
      "C3:  0.357  %\n"
     ]
    }
   ],
   "source": [
    "get_stats(team_B_shots)"
   ]
  },
  {
   "cell_type": "code",
   "execution_count": null,
   "metadata": {},
   "outputs": [],
   "source": []
  }
 ],
 "metadata": {
  "kernelspec": {
   "display_name": "Python 3",
   "language": "python",
   "name": "python3"
  },
  "language_info": {
   "codemirror_mode": {
    "name": "ipython",
    "version": 3
   },
   "file_extension": ".py",
   "mimetype": "text/x-python",
   "name": "python",
   "nbconvert_exporter": "python",
   "pygments_lexer": "ipython3",
   "version": "3.8.5"
  }
 },
 "nbformat": 4,
 "nbformat_minor": 4
}
